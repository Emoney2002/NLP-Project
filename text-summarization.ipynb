{
 "cells": [
  {
   "cell_type": "code",
   "execution_count": 61,
   "id": "2b54e021-73ff-4a46-9477-5b92c5d6ce3a",
   "metadata": {},
   "outputs": [],
   "source": [
    "import torch\n",
    "from transformers import BartTokenizer, BartForConditionalGeneration\n",
    "\n",
    "\n",
    "tokenizer = BartTokenizer.from_pretrained('facebook/bart-large-cnn')\n",
    "model = BartForConditionalGeneration.from_pretrained('facebook/bart-large-cnn')"
   ]
  },
  {
   "cell_type": "code",
   "execution_count": 62,
   "id": "122d32d5-2d69-4049-bb96-a6a518ec7321",
   "metadata": {},
   "outputs": [],
   "source": [
    "def generate_summary(text):\n",
    "    inputs = tokenizer.encode(\"summarize: \" + text, return_tensors=\"pt\", max_length=1024, truncation=True)\n",
    "    summary_ids = model.generate(inputs, max_length=150, min_length=50, length_penalty=2.0, num_beams=4, early_stopping=True)\n",
    "    summary = tokenizer.decode(summary_ids[0], skip_special_tokens=True)\n",
    "    return summary"
   ]
  },
  {
   "cell_type": "code",
   "execution_count": 71,
   "id": "becdafc0-73ec-414c-b41b-6b750f97703c",
   "metadata": {},
   "outputs": [
    {
     "ename": "IndentationError",
     "evalue": "unexpected indent (2913550171.py, line 2)",
     "output_type": "error",
     "traceback": [
      "\u001b[1;36m  Cell \u001b[1;32mIn[71], line 2\u001b[1;36m\u001b[0m\n\u001b[1;33m    \"remained Conservative Party leader until October when ill health forced his resignation. By that time, Churchill had won the \"\u001b[0m\n\u001b[1;37m    ^\u001b[0m\n\u001b[1;31mIndentationError\u001b[0m\u001b[1;31m:\u001b[0m unexpected indent\n"
     ]
    }
   ],
   "source": [
    "article = \"In May, Churchill was still generally unpopular with many Conservatives and probably most of the Labour Party. Chamberlain \"\n",
    "            \"remained Conservative Party leader until October when ill health forced his resignation. By that time, Churchill had won the \"\n",
    "            \"doubters over and his succession as party leader was a formality.\"\n",
    "            \" \"\n",
    "            \"He began his premiership by forming a five-man war cabinet which included Chamberlain as Lord President of the Council, \"\n",
    "            \"Labour leader Clement Attlee as Lord Privy Seal (later as Deputy Prime Minister), Halifax as Foreign Secretary and Labour's \"\n",
    "            \"Arthur Greenwood as a minister without portfolio. In practice, these five were augmented by the service chiefs and ministers \"\n",
    "            \"who attended the majority of meetings. The cabinet changed in size and membership as the war progressed, one of the key \"\n",
    "            \"appointments being the leading trades unionist Ernest Bevin as Minister of Labour and National Service. In response to \"\n",
    "            \"previous criticisms that there had been no clear single minister in charge of the prosecution of the war, Churchill created \"\n",
    "            \"and took the additional position of Minister of Defence, making him the most powerful wartime Prime Minister in British \"\n",
    "            \"history. He drafted outside experts into government to fulfil vital functions, especially on the Home Front. These included \"\n",
    "            \"personal friends like Lord Beaverbrook and Frederick Lindemann, who became the government's scientific advisor.\"\n",
    "            \" \"\n",
    "            \"At the end of May, with the British Expeditionary Force in retreat to Dunkirk and the Fall of France seemingly imminent, \"\n",
    "            \"Halifax proposed that the government should explore the possibility of a negotiated peace settlement using the still-neutral \"\n",
    "            \"Mussolini as an intermediary. There were several high-level meetings from 26 to 28 May, including two with the French \"\n",
    "            \"premier Paul Reynaud. Churchill's resolve was to fight on, even if France capitulated, but his position remained precarious \"\n",
    "            \"until Chamberlain resolved to support him. Churchill had the full support of the two Labour members but knew he could not \"\n",
    "            \"survive as Prime Minister if both Chamberlain and Halifax were against him. In the end, by gaining the support of his outer \"\n",
    "            \"cabinet, Churchill outmanoeuvred Halifax and won Chamberlain over. Churchill believed that the only option was to fight on \"\n",
    "            \"and his use of rhetoric hardened public opinion against a peaceful resolution and prepared the British people for a long war \"\n",
    "            \"– Jenkins says Churchill's speeches were 'an inspiration for the nation, and a catharsis for Churchill himself'.\"\n",
    "            \" \"\n",
    "            \"His first speech as Prime Minister, delivered to the Commons on 13 May was the 'blood, toil, tears and sweat' speech. It was \"\n",
    "            \"little more than a short statement but, Jenkins says, 'it included phrases which have reverberated down the decades'.\"\n",
    "\n"
   ]
  },
  {
   "cell_type": "code",
   "execution_count": 72,
   "id": "2e3f8034-9265-4263-a002-e4e4eb12e2e0",
   "metadata": {},
   "outputs": [
    {
     "name": "stdout",
     "output_type": "stream",
     "text": [
      "Original Text: In May, Churchill was still generally unpopular with many Conservatives and probably most of the Labour Party. Chamberlain remained Conservative Party leader until October when ill health forced his resignation. By that time, Churchill had won the doubters over and his succession as party leader was a formality. He began his premiership by forming a five-man war cabinet which included Chamberlain as Lord President of the Council, Labour leader Clement Attlee as Lord Privy Seal (later as Deputy Prime Minister), Halifax as Foreign Secretary and Labour's Arthur Greenwood as a minister without portfolio. In practice, these five were augmented by the service chiefs and ministers who attended the majority of meetings. The cabinet changed in size and membership as the war progressed, one of the key appointments being the leading trades unionist Ernest Bevin as Minister of Labour and National Service. In response to previous criticisms that there had been no clear single minister in charge of the prosecution of the war, Churchill created and took the additional position of Minister of Defence, making him the most powerful wartime Prime Minister in British history. He drafted outside experts into government to fulfil vital functions, especially on the Home Front. These included personal friends like Lord Beaverbrook and Frederick Lindemann, who became the government's scientific advisor. At the end of May, with the British Expeditionary Force in retreat to Dunkirk and the Fall of France seemingly imminent, Halifax proposed that the government should explore the possibility of a negotiated peace settlement using the still-neutral Mussolini as an intermediary. There were several high-level meetings from 26 to 28 May, including two with the French premier Paul Reynaud. Churchill's resolve was to fight on, even if France capitulated, but his position remained precarious until Chamberlain resolved to support him. Churchill had the full support of the two Labour members but knew he could not survive as Prime Minister if both Chamberlain and Halifax were against him. In the end, by gaining the support of his outer cabinet, Churchill outmanoeuvred Halifax and won Chamberlain over. Churchill believed that the only option was to fight on and his use of rhetoric hardened public opinion against a peaceful resolution and prepared the British people for a long war – Jenkins says Churchill's speeches were 'an inspiration for the nation, and a catharsis for Churchill himself'. His first speech as Prime Minister, delivered to the Commons on 13 May was the 'blood, toil, tears and sweat' speech. It was little more than a short statement but, Jenkins says, 'it included phrases which have reverberated down the decades'.\n",
      "Summary: In May, Churchill was still generally unpopular with many Conservatives and probably most of the Labour Party. Chamberlain remained Conservative Party leader until October when ill health forced his resignation. By that time, Churchill had won the doubters over and his succession as party leader was a formality. He began his premiership by forming a five-man war cabinet.\n"
     ]
    }
   ],
   "source": [
    "summary = generate_summary(article)\n",
    "print(\"Original Text:\", article)\n",
    "print(\"Summary:\", summary)"
   ]
  },
  {
   "cell_type": "code",
   "execution_count": null,
   "id": "f67580d8-798f-47e6-b6bc-2522014c36dd",
   "metadata": {},
   "outputs": [],
   "source": []
  },
  {
   "cell_type": "code",
   "execution_count": null,
   "id": "0cd6c1be-c547-450f-80dd-ed5c2a7277d1",
   "metadata": {},
   "outputs": [],
   "source": []
  }
 ],
 "metadata": {
  "kernelspec": {
   "display_name": "Python 3 (ipykernel)",
   "language": "python",
   "name": "python3"
  },
  "language_info": {
   "codemirror_mode": {
    "name": "ipython",
    "version": 3
   },
   "file_extension": ".py",
   "mimetype": "text/x-python",
   "name": "python",
   "nbconvert_exporter": "python",
   "pygments_lexer": "ipython3",
   "version": "3.11.7"
  }
 },
 "nbformat": 4,
 "nbformat_minor": 5
}
